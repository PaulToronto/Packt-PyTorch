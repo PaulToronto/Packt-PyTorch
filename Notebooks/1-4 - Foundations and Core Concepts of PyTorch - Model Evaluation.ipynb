{
 "cells": [
  {
   "cell_type": "markdown",
   "id": "1269ff19",
   "metadata": {},
   "source": [
    "# 1-4 - Foundations and Core Concepts of PyTorch - Model Evaluation"
   ]
  }
 ],
 "metadata": {
  "language_info": {
   "name": "python"
  }
 },
 "nbformat": 4,
 "nbformat_minor": 5
}
